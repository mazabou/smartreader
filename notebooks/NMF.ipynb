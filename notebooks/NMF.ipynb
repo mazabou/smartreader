{
 "cells": [
  {
   "cell_type": "code",
   "execution_count": 6,
   "metadata": {},
   "outputs": [],
   "source": [
    "import preprocess\n",
    "rownames, colnames, data, info = preprocess.readfile()\n",
    "data = preprocess.tfidf(data)\n",
    "data, colnames = preprocess.pruning(data, colnames, 0.05, 0.85)"
   ]
  },
  {
   "cell_type": "code",
   "execution_count": 12,
   "metadata": {},
   "outputs": [],
   "source": [
    "import NMF\n",
    "import numpy as np"
   ]
  },
  {
   "cell_type": "code",
   "execution_count": 13,
   "metadata": {},
   "outputs": [
    {
     "name": "stdout",
     "output_type": "stream",
     "text": [
      "2445854.558077224\n",
      "274553.50919984136\n",
      "260193.94967216963\n",
      "256765.52880030277\n",
      "255340.82659041195\n"
     ]
    }
   ],
   "source": [
    "v = np.matrix(data)\n",
    "w, h = NMF.factorize(v)"
   ]
  },
  {
   "cell_type": "code",
   "execution_count": 21,
   "metadata": {},
   "outputs": [
    {
     "name": "stdout",
     "output_type": "stream",
     "text": [
      "['dave', 'starboard', 'tweak', 'ross', 'status', 'import']\n",
      "(10.436225922471031, 'Jamie Dimons Letter  Handicapping a Run for President in 2020: DealBook Briefing')\n",
      "(7.354253096223638, 'Tinder and Bumble Are Seriously at War')\n",
      "(5.448969486297303, 'A Trade War Will Test Corporate Americas Openness: DealBook Briefing')\n",
      "['climat', 'end', 'investor', 'ouster', 'harri', 'fewer']\n",
      "(7.449471977510276, 'In His Haste to Roll Back Rules, Scott Pruitt, E.P.A. Chief, Risks His Agenda')\n",
      "(7.326985999343361, 'E.P.A. Officials Sidelined After Questioning Scott Pruitt')\n",
      "(5.606325644369155, 'Calling Car Pollution Standards Too High, E.P.A. Sets Up Fight With California')\n",
      "['tariff', 'industri', 'enter', 'took', 'automat', 'want']\n",
      "(6.5627317192308325, 'Tech Fix: Unknown Tech Brands Arent Like Groceries. Dont Just Grab Them.')\n",
      "(5.157646828328803, 'Hey, Alexa, What Can You Hear? And What Will You Do With It?')\n",
      "(4.659406648264361, 'Tech Thinks It Has a Fix for the Problems It Created: Blockchain')\n",
      "['help', 'bernd', 'too', 'tomorrow', 'reimburs', 'noren']\n",
      "(13.00648463635284, '2018 Masters: Patrick Reed Dominates Augusta in Round 2')\n",
      "(13.006201322845873, 'How Patrick Reed Dominated the Masters on Day 2')\n",
      "(4.0689241545428, 'Day 2 at the Masters Starts With Mayhem and Ends With Patrick Reed in the Lead')\n",
      "['anyon', 'delhi', 'opportun', 'applic', 'mcmaster', 'cambridg']\n",
      "(7.1061687616219125, 'Park Geun-hye, South Koreas Ousted President, Gets 24 Years in Prison')\n",
      "(6.741519775727774, 'They Did 30 Years for Someone Elses Crime. Then Paid for It.')\n",
      "(6.661929161360568, 'A South Korean President Is Jailed for Graft, but Few Expect Major Change')\n",
      "['dare', 'southern', 'shift', 'scrambl', 'attract', 'valu']\n",
      "(19.753138585260295, 'Feature: The Case of Hong Kongs Missing Booksellers')\n",
      "(1.5757099613691787, 'Common Sense: With Tesla in a Danger Zone, Can Model 3 Carry It to Safety?')\n",
      "(1.4371437473032882, 'China Bans Online Bible Sales as It Tightens Religious Controls')\n",
      "['tighter', 'valu', 'southern', 'elit', 'delay', 'brighter']\n",
      "(7.813608058242213, 'A Trade War Will Test Corporate Americas Openness: DealBook Briefing')\n",
      "(6.706898286020946, 'Trump Aims New Threat at China as Mnuchin Warns of Trade War')\n",
      "(6.614348597179623, 'Trump Doubles Down on Potential Trade War With China')\n",
      "['thank', 'vein', 'appl', 'proof', 'tractor', 'escal']\n",
      "(5.710131165873149, 'Too Radical for France, a Muslim Clergyman Faces Deportation')\n",
      "(5.64563296921601, 'Skripal Cousin Says She Doesnt Trust Britain on Chemical Attack')\n",
      "(4.92271145223949, 'Pompeo and Bolton Appointments Raise Alarm Over Ties to Anti-Islam Groups')\n",
      "['par', 'small', 'justin', 'support', 'retreat', 'five']\n",
      "(7.069442108402647, 'Is It Time to Rethink the Rules for N.F.L. Cheerleaders?')\n",
      "(6.985330866480854, 'In the World of N.F.L. Cheerleading, Are the Boos Getting Louder?')\n",
      "(3.7206720303683865, 'Skateboarders Won')\n",
      "['requir', 'overhaul', 'angel', 'topic', 'theori', 'want']\n",
      "(11.088300612646496, 'Sleeping in Car and Visiting Gun Range: How YouTube Attacker Spent Final Hours')\n",
      "(9.178642644311449, 'Police Identify Woman Who Wounded 3 at YouTube and Killed Herself; Motive Is Unclear')\n",
      "(7.278435092120202, 'Vegan Bodybuilder: How YouTube Attacker, Nasim Aghdam, Went Viral in Iran')\n"
     ]
    }
   ],
   "source": [
    "topp,pn= NMF.showfeatures(w,h,rownames,colnames)"
   ]
  },
  {
   "cell_type": "code",
   "execution_count": 17,
   "metadata": {},
   "outputs": [
    {
     "data": {
      "text/plain": [
       "[['dave', 'starboard', 'tweak', 'ross', 'status', 'import'],\n",
       " ['climat', 'end', 'investor', 'ouster', 'harri', 'fewer'],\n",
       " ['tariff', 'industri', 'enter', 'took', 'automat', 'want'],\n",
       " ['help', 'bernd', 'too', 'tomorrow', 'reimburs', 'noren'],\n",
       " ['anyon', 'delhi', 'opportun', 'applic', 'mcmaster', 'cambridg'],\n",
       " ['dare', 'southern', 'shift', 'scrambl', 'attract', 'valu'],\n",
       " ['tighter', 'valu', 'southern', 'elit', 'delay', 'brighter'],\n",
       " ['thank', 'vein', 'appl', 'proof', 'tractor', 'escal'],\n",
       " ['par', 'small', 'justin', 'support', 'retreat', 'five'],\n",
       " ['requir', 'overhaul', 'angel', 'topic', 'theori', 'want']]"
      ]
     },
     "execution_count": 17,
     "metadata": {},
     "output_type": "execute_result"
    }
   ],
   "source": [
    "pn"
   ]
  }
 ],
 "metadata": {
  "kernelspec": {
   "display_name": "Python 2",
   "language": "python",
   "name": "python2"
  },
  "language_info": {
   "codemirror_mode": {
    "name": "ipython",
    "version": 2
   },
   "file_extension": ".py",
   "mimetype": "text/x-python",
   "name": "python",
   "nbconvert_exporter": "python",
   "pygments_lexer": "ipython2",
   "version": "2.7.14"
  }
 },
 "nbformat": 4,
 "nbformat_minor": 2
}
